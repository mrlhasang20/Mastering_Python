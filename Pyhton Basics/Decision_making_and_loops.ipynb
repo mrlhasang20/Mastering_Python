{
 "cells": [
  {
   "cell_type": "markdown",
   "id": "83d1cddb-9bd2-4695-8f52-66f8dbb775b8",
   "metadata": {},
   "source": [
    "# Decision Making and Loops"
   ]
  },
  {
   "cell_type": "markdown",
   "id": "8594c695-ac94-47e5-98a9-21f9f5ca7a33",
   "metadata": {},
   "source": [
    "## Booleans"
   ]
  },
  {
   "cell_type": "code",
   "execution_count": 4,
   "id": "d4828696-f175-4875-b125-feaaed0ba8f9",
   "metadata": {},
   "outputs": [
    {
     "name": "stdout",
     "output_type": "stream",
     "text": [
      "False\n",
      "<class 'bool'>\n"
     ]
    }
   ],
   "source": [
    "a = 1>2\n",
    "print(a)\n",
    "print(type(a))"
   ]
  },
  {
   "cell_type": "code",
   "execution_count": 8,
   "id": "57369b54-9026-4b6d-b74c-555fb8fdaae6",
   "metadata": {},
   "outputs": [
    {
     "name": "stdout",
     "output_type": "stream",
     "text": [
      "<class 'bool'>\n"
     ]
    }
   ],
   "source": [
    "# the boolean are either true or false and it is also one of the datatypes\n",
    "\n",
    "a = True\n",
    "print(type(a))"
   ]
  },
  {
   "cell_type": "code",
   "execution_count": 10,
   "id": "7fd88135-e144-4892-a25b-a9f44bf65434",
   "metadata": {},
   "outputs": [
    {
     "name": "stdout",
     "output_type": "stream",
     "text": [
      "<class 'str'>\n"
     ]
    }
   ],
   "source": [
    "b = \"true\"\n",
    "print(type(b))"
   ]
  },
  {
   "cell_type": "markdown",
   "id": "a4f57fb5-b7fc-48f2-84fd-767c4263915c",
   "metadata": {},
   "source": [
    "## If else statement"
   ]
  },
  {
   "cell_type": "code",
   "execution_count": 13,
   "id": "a111d936-c070-4e25-aba4-b8464b5e6dd1",
   "metadata": {},
   "outputs": [
    {
     "name": "stdin",
     "output_type": "stream",
     "text": [
      "Enter a number:  23\n"
     ]
    },
    {
     "name": "stdout",
     "output_type": "stream",
     "text": [
      "Odd\n"
     ]
    }
   ],
   "source": [
    "a = int(input(\"Enter a number: \"))\n",
    "\n",
    "if a % 2 == 0:\n",
    "    print(\"Even\")\n",
    "else: \n",
    "    print(\"Odd\")"
   ]
  },
  {
   "cell_type": "markdown",
   "id": "2fab6d52-1e57-4bb1-b235-65661805ed94",
   "metadata": {},
   "source": [
    "## IF elif else statement"
   ]
  },
  {
   "cell_type": "code",
   "execution_count": 2,
   "id": "f297f74f-1ce6-440a-94dc-4d25619ce24f",
   "metadata": {},
   "outputs": [
    {
     "name": "stdout",
     "output_type": "stream",
     "text": [
      "b\n"
     ]
    }
   ],
   "source": [
    "if 1>2:\n",
    "    print(\"a\")\n",
    "elif 1<2:\n",
    "    print(\"b\")\n",
    "else:\n",
    "    print(\"c\")"
   ]
  },
  {
   "cell_type": "markdown",
   "id": "a373844f-0f54-4cb3-98bb-4da56db10068",
   "metadata": {},
   "source": [
    "## Operators"
   ]
  },
  {
   "cell_type": "code",
   "execution_count": 7,
   "id": "1845e813-3d9f-4ecf-816b-13006688af4b",
   "metadata": {},
   "outputs": [
    {
     "name": "stdout",
     "output_type": "stream",
     "text": [
      "work harder and smarter.\n"
     ]
    }
   ],
   "source": [
    "# and operator: True if both conditions are tru and falso if any of the condition is false\n",
    "salary = 20000\n",
    "age = 20\n",
    "if age>=20 and salary>=30000:\n",
    "    print(\"Pretty decent\")\n",
    "else:\n",
    "    print(\"work harder and smarter.\")"
   ]
  },
  {
   "cell_type": "code",
   "execution_count": 8,
   "id": "4703c937-2391-4939-a4ae-c46892a66cfc",
   "metadata": {},
   "outputs": [
    {
     "name": "stdout",
     "output_type": "stream",
     "text": [
      "Pretty decent\n"
     ]
    }
   ],
   "source": [
    "# OR operator: if any one condition si true then the whole condition becames true\n",
    "\n",
    "if age>=20 or salary>=30000:\n",
    "    print(\"Pretty decent\")\n",
    "else:\n",
    "    print(\"work harder and smarter.\")"
   ]
  },
  {
   "cell_type": "code",
   "execution_count": 10,
   "id": "ce3767a3-d0f2-4eb4-90f8-5539ded50510",
   "metadata": {},
   "outputs": [
    {
     "name": "stdout",
     "output_type": "stream",
     "text": [
      "Mango\n"
     ]
    }
   ],
   "source": [
    "# NOT operator:  it;s the opposite of any boolean value\n",
    "\n",
    "if not True:\n",
    "    print(\"apple\")\n",
    "else: \n",
    "    print(\"Mango\")"
   ]
  },
  {
   "cell_type": "markdown",
   "id": "a0be447b-01e8-4e96-8753-509bd20187f6",
   "metadata": {},
   "source": [
    "## LOOP"
   ]
  },
  {
   "cell_type": "markdown",
   "id": "41f946d7-9c5c-4b6e-9e3e-5c8991ed4f30",
   "metadata": {},
   "source": [
    "### While loop"
   ]
  },
  {
   "cell_type": "code",
   "execution_count": 5,
   "id": "2c64cde0-1dcf-4755-9341-373aef8260c9",
   "metadata": {},
   "outputs": [
    {
     "name": "stdin",
     "output_type": "stream",
     "text": [
      "Enter a number:  0\n"
     ]
    },
    {
     "name": "stdout",
     "output_type": "stream",
     "text": [
      "0\n",
      "1\n"
     ]
    }
   ],
   "source": [
    "n = int(input(\"Enter a number: \"))\n",
    "\n",
    "while n < 2:\n",
    "    print(n)\n",
    "    n +=1"
   ]
  },
  {
   "cell_type": "markdown",
   "id": "8d34d45e-343c-4afa-b6ac-3fa2e620cfbf",
   "metadata": {},
   "source": [
    "### for loop"
   ]
  },
  {
   "cell_type": "code",
   "execution_count": 7,
   "id": "e2f9ad12-fab6-4c0d-9fb1-b3d21102742d",
   "metadata": {},
   "outputs": [
    {
     "name": "stdout",
     "output_type": "stream",
     "text": [
      "2\n",
      "4\n"
     ]
    }
   ],
   "source": [
    "# let's print the even numbers\n",
    "\n",
    "n = [1,2,3,4]\n",
    "\n",
    "for i in n:\n",
    "    if i%2==0:\n",
    "        print(i)"
   ]
  },
  {
   "cell_type": "code",
   "execution_count": 12,
   "id": "c51c49b9-e163-4213-a372-f17a384bfef6",
   "metadata": {},
   "outputs": [
    {
     "name": "stdin",
     "output_type": "stream",
     "text": [
      "Input an positive integer:  5\n"
     ]
    },
    {
     "name": "stdout",
     "output_type": "stream",
     "text": [
      "120\n"
     ]
    }
   ],
   "source": [
    "# lets use the range function\n",
    "# factorial\n",
    "\n",
    "n = int(input(\"Input an positive integer: \"))\n",
    "if n ==0 :\n",
    "    print(1)\n",
    "\n",
    "else:\n",
    "    fact = 1\n",
    "    for i in range(1,n+1):\n",
    "       fact *=i\n",
    "    print(fact)"
   ]
  },
  {
   "cell_type": "markdown",
   "id": "6bc57619-3140-4b56-b2df-25d130096833",
   "metadata": {},
   "source": [
    "## Break and Continue"
   ]
  },
  {
   "cell_type": "code",
   "execution_count": 14,
   "id": "3720b254-d30d-4650-bbd5-eaa3acf6783b",
   "metadata": {},
   "outputs": [
    {
     "name": "stdout",
     "output_type": "stream",
     "text": [
      "2\n",
      "4\n",
      "6\n",
      "8\n",
      "10\n"
     ]
    }
   ],
   "source": [
    "# break for terminating the loop and continue to skip the loop for that particular condition\n",
    "\n",
    "for i in range(1,11):\n",
    "    if i%2 !=0:\n",
    "        continue\n",
    "    print(i)\n",
    "    "
   ]
  },
  {
   "cell_type": "code",
   "execution_count": 16,
   "id": "e6f27fe7-1320-4d3d-893d-4822029498a1",
   "metadata": {},
   "outputs": [
    {
     "name": "stdout",
     "output_type": "stream",
     "text": [
      "2\n",
      "4\n",
      "6\n",
      "8\n"
     ]
    }
   ],
   "source": [
    "# using the break statement in above\n",
    "for i in range(1,11):\n",
    "    if i%2 !=0:\n",
    "        continue\n",
    "    if i == 10:\n",
    "        break\n",
    "    print(i)"
   ]
  },
  {
   "cell_type": "markdown",
   "id": "0c74ba35-8ede-4973-9d19-cfa6c73ae21b",
   "metadata": {},
   "source": [
    "## Control Flow examples"
   ]
  },
  {
   "cell_type": "markdown",
   "id": "3b465331-9ad8-46c7-8aa5-3cd868d8edad",
   "metadata": {},
   "source": [
    "### Multiplication table of a number"
   ]
  },
  {
   "cell_type": "code",
   "execution_count": 25,
   "id": "b24fcd23-eca1-4608-bbab-8a2f18177ab5",
   "metadata": {},
   "outputs": [
    {
     "name": "stdin",
     "output_type": "stream",
     "text": [
      "Enter a positive number:  5\n"
     ]
    },
    {
     "name": "stdout",
     "output_type": "stream",
     "text": [
      " ----- Multiplication table of 5 --------\n",
      "5 * 1 = 5\n",
      "5 * 2 = 10\n",
      "5 * 3 = 15\n",
      "5 * 4 = 20\n",
      "5 * 5 = 25\n"
     ]
    }
   ],
   "source": [
    "n= int(input(\"Enter a positive number: \"))\n",
    "if n<0 or n==0:\n",
    "    print(\"Enter a number greater that 0 \")\n",
    "\n",
    "print(f\" ----- Multiplication table of {n} --------\")\n",
    "\n",
    "for i in  range(1,n+1):\n",
    "    m=n*i\n",
    "    print(f\"{n} * {i} = {m}\")\n",
    "    "
   ]
  },
  {
   "cell_type": "markdown",
   "id": "77c7f5fa-6b28-42d9-851a-b334e720b1a6",
   "metadata": {},
   "source": []
  }
 ],
 "metadata": {
  "kernelspec": {
   "display_name": "Python 3 (ipykernel)",
   "language": "python",
   "name": "python3"
  },
  "language_info": {
   "codemirror_mode": {
    "name": "ipython",
    "version": 3
   },
   "file_extension": ".py",
   "mimetype": "text/x-python",
   "name": "python",
   "nbconvert_exporter": "python",
   "pygments_lexer": "ipython3",
   "version": "3.11.7"
  },
  "widgets": {
   "application/vnd.jupyter.widget-state+json": {
    "state": {},
    "version_major": 2,
    "version_minor": 0
   }
  }
 },
 "nbformat": 4,
 "nbformat_minor": 5
}
