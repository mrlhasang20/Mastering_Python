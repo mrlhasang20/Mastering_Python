{
 "cells": [
  {
   "cell_type": "markdown",
   "id": "08c47e0d-d745-44ba-b67a-0d30149f6479",
   "metadata": {},
   "source": [
    "# Simple Python programs"
   ]
  },
  {
   "cell_type": "markdown",
   "id": "3c2e1783-13c5-4128-a9fc-2002c7ca42aa",
   "metadata": {},
   "source": [
    "## Prime Numbers"
   ]
  },
  {
   "cell_type": "code",
   "execution_count": 8,
   "id": "d9f56918-02d7-485a-94eb-705fc1851f62",
   "metadata": {},
   "outputs": [
    {
     "name": "stdin",
     "output_type": "stream",
     "text": [
      "Enter a number:  23\n"
     ]
    },
    {
     "name": "stdout",
     "output_type": "stream",
     "text": [
      "23 is a prime number\n"
     ]
    }
   ],
   "source": [
    "# checking the prime numbers\n",
    "def prime(n):\n",
    "    for i in range(2,n):\n",
    "        if n % i == 0:\n",
    "            return False\n",
    "    return True\n",
    "\n",
    "n = int(input(\"Enter a number: \"))\n",
    "is_prime = prime(n)\n",
    "if is_prime:\n",
    "    print(f\"{n} is a prime number\")\n",
    "else:\n",
    "    print(\"not a prime number\")\n"
   ]
  },
  {
   "cell_type": "code",
   "execution_count": 1,
   "id": "a56e77c5-6625-4f47-a9fe-277cb73f5fcd",
   "metadata": {},
   "outputs": [
    {
     "name": "stdout",
     "output_type": "stream",
     "text": [
      "53\n",
      "59\n",
      "61\n",
      "67\n",
      "71\n",
      "73\n",
      "79\n",
      "83\n",
      "89\n",
      "97\n"
     ]
    }
   ],
   "source": [
    "def prime(n):\n",
    "    for i in range(2,n):\n",
    "        if n % i == 0:\n",
    "            return False\n",
    "    return True\n",
    "    \n",
    "a=50\n",
    "b=100\n",
    "\n",
    "for i in range(a,b+1):\n",
    "    is_prime = prime(i)\n",
    "    if is_prime:\n",
    "        print(i)"
   ]
  },
  {
   "cell_type": "markdown",
   "id": "761fb8b2-64be-4ec4-a715-d3392286c3ad",
   "metadata": {},
   "source": [
    "## Rock Paper and Scissor"
   ]
  },
  {
   "cell_type": "code",
   "execution_count": 3,
   "id": "43600c70-fc57-4141-a032-3b29f29f12ac",
   "metadata": {},
   "outputs": [
    {
     "name": "stdin",
     "output_type": "stream",
     "text": [
      "Enter rock/paper/scissor:  rock\n"
     ]
    },
    {
     "name": "stdout",
     "output_type": "stream",
     "text": [
      "computer: paper\n",
      "you lose\n"
     ]
    }
   ],
   "source": [
    "import random\n",
    "\n",
    "def comp():\n",
    "    choice = random.randint(1,3)\n",
    "    c = {1:\"rock\",2:\"paper\",3:\"scissor\"}\n",
    "    return (c[choice])\n",
    "\n",
    "def user():\n",
    "    n = input(\"Enter rock/paper/scissor: \")\n",
    "    return n\n",
    "    \n",
    "a = user()\n",
    "b = comp()\n",
    "# print(a)\n",
    "def game(a, b):\n",
    "    print(f\"computer: {b}\")\n",
    "    if a == b:\n",
    "        print(\"Draw\")\n",
    "    elif a == \"paper\" and b == \"rock\":\n",
    "        print(\"you win\")\n",
    "    elif a == \"rock\" and b == \"scissors\":\n",
    "        print(\"you win\")\n",
    "    elif a == \"scissors\" and b == \"paper\":\n",
    "        print(\"you win\")\n",
    "    \n",
    "    else:\n",
    "        print(\"you lose\")\n",
    "    \n",
    "game(a,b)"
   ]
  },
  {
   "cell_type": "code",
   "execution_count": null,
   "id": "fdcb983d-3bb4-4276-bf58-ebb874434e12",
   "metadata": {},
   "outputs": [],
   "source": []
  }
 ],
 "metadata": {
  "kernelspec": {
   "display_name": "Python 3 (ipykernel)",
   "language": "python",
   "name": "python3"
  },
  "language_info": {
   "codemirror_mode": {
    "name": "ipython",
    "version": 3
   },
   "file_extension": ".py",
   "mimetype": "text/x-python",
   "name": "python",
   "nbconvert_exporter": "python",
   "pygments_lexer": "ipython3",
   "version": "3.11.7"
  },
  "widgets": {
   "application/vnd.jupyter.widget-state+json": {
    "state": {},
    "version_major": 2,
    "version_minor": 0
   }
  }
 },
 "nbformat": 4,
 "nbformat_minor": 5
}
