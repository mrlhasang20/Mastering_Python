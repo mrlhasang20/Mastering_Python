{
 "cells": [
  {
   "cell_type": "markdown",
   "id": "c3212c31-10f5-4716-b491-2a7cc4e62c3e",
   "metadata": {},
   "source": [
    "# Lists"
   ]
  },
  {
   "cell_type": "code",
   "execution_count": 1,
   "id": "5b7c1679-b364-4327-8785-3204a505c9f4",
   "metadata": {},
   "outputs": [],
   "source": [
    "# they are the collections and is mutable: meaning the items can be updated, deleted "
   ]
  },
  {
   "cell_type": "code",
   "execution_count": 2,
   "id": "c8dbdd50-d24e-48af-979a-7aad0557c30b",
   "metadata": {},
   "outputs": [
    {
     "name": "stdout",
     "output_type": "stream",
     "text": [
      "<class 'list'>\n"
     ]
    }
   ],
   "source": [
    "a = []\n",
    "print(type(a))"
   ]
  },
  {
   "cell_type": "code",
   "execution_count": 3,
   "id": "8e8bd5fa-4d61-488f-9e32-f8562c2f3924",
   "metadata": {},
   "outputs": [],
   "source": [
    "b = [\"hellow\", 1,3,4]\n",
    "# list methods\n",
    "\n",
    "\n",
    "# del statement for the deletion of the elements\n",
    "\n",
    "del b[0]"
   ]
  },
  {
   "cell_type": "code",
   "execution_count": 4,
   "id": "8735d797-7e2e-42fa-92b5-cf0867acbee3",
   "metadata": {},
   "outputs": [
    {
     "name": "stdout",
     "output_type": "stream",
     "text": [
      "[1, 3, 4]\n"
     ]
    }
   ],
   "source": [
    "print(b)"
   ]
  },
  {
   "cell_type": "code",
   "execution_count": 5,
   "id": "c61771e6-b1f1-46ba-bfdc-727dc3b95ecf",
   "metadata": {},
   "outputs": [
    {
     "name": "stdout",
     "output_type": "stream",
     "text": [
      "[1, 3, 4, 'hello']\n"
     ]
    }
   ],
   "source": [
    "# appending the elements on the lis\n",
    "\n",
    "b.append(\"hello\")\n",
    "print(b)"
   ]
  },
  {
   "cell_type": "code",
   "execution_count": 6,
   "id": "c39fae15-2bd0-4d5b-8b99-3b53d8f740ae",
   "metadata": {},
   "outputs": [
    {
     "name": "stdout",
     "output_type": "stream",
     "text": [
      "1\n",
      "3\n",
      "4\n",
      "hello\n"
     ]
    }
   ],
   "source": [
    "# loops in list\n",
    "\n",
    "for i in b:\n",
    "    print(i)"
   ]
  },
  {
   "cell_type": "code",
   "execution_count": 7,
   "id": "d59eb912-ce95-4768-a1ca-e9c18b32898c",
   "metadata": {},
   "outputs": [
    {
     "data": {
      "text/plain": [
       "4"
      ]
     },
     "execution_count": 7,
     "metadata": {},
     "output_type": "execute_result"
    }
   ],
   "source": [
    "len(b)"
   ]
  },
  {
   "cell_type": "code",
   "execution_count": 8,
   "id": "8398ba93-a314-486a-8360-7d86ac78ecbc",
   "metadata": {},
   "outputs": [
    {
     "name": "stdout",
     "output_type": "stream",
     "text": [
      "True\n"
     ]
    }
   ],
   "source": [
    "print(\"hello\" in b)"
   ]
  },
  {
   "cell_type": "code",
   "execution_count": 9,
   "id": "8db1476f-1371-4af3-b409-9bcfbf39363c",
   "metadata": {},
   "outputs": [
    {
     "name": "stdout",
     "output_type": "stream",
     "text": [
      "False\n"
     ]
    }
   ],
   "source": [
    "print(1 not in b)"
   ]
  },
  {
   "cell_type": "markdown",
   "id": "c9f43de5-205a-4e94-95ce-1a182066bae1",
   "metadata": {},
   "source": [
    "# tuple"
   ]
  },
  {
   "cell_type": "code",
   "execution_count": 10,
   "id": "103a64fa-8f20-4956-9873-66a8d7bb1e89",
   "metadata": {},
   "outputs": [],
   "source": [
    "# ordered collection of the items and is similar datatype to the list but has an important difference i.e. it is not mutable"
   ]
  },
  {
   "cell_type": "code",
   "execution_count": 11,
   "id": "a0685890-e469-4abf-8475-34e4b42391e8",
   "metadata": {},
   "outputs": [
    {
     "name": "stdout",
     "output_type": "stream",
     "text": [
      "(1, 2, 3)\n",
      "<class 'tuple'>\n"
     ]
    }
   ],
   "source": [
    "a = (1,2,3)\n",
    "\n",
    "print(a)\n",
    "print(type(a))"
   ]
  },
  {
   "cell_type": "code",
   "execution_count": 12,
   "id": "7752937b-fb1b-4e46-854e-85f0a8647bb8",
   "metadata": {},
   "outputs": [
    {
     "ename": "AttributeError",
     "evalue": "'tuple' object has no attribute 'append'",
     "output_type": "error",
     "traceback": [
      "\u001b[1;31m---------------------------------------------------------------------------\u001b[0m",
      "\u001b[1;31mAttributeError\u001b[0m                            Traceback (most recent call last)",
      "Cell \u001b[1;32mIn[12], line 3\u001b[0m\n\u001b[0;32m      1\u001b[0m \u001b[38;5;66;03m# methods on the tuple\u001b[39;00m\n\u001b[1;32m----> 3\u001b[0m a\u001b[38;5;241m.\u001b[39mappend(\u001b[38;5;124m\"\u001b[39m\u001b[38;5;124mehll\u001b[39m\u001b[38;5;124m\"\u001b[39m)\n",
      "\u001b[1;31mAttributeError\u001b[0m: 'tuple' object has no attribute 'append'"
     ]
    }
   ],
   "source": [
    "# methods on the tuple\n",
    "\n",
    "a.append(\"ehll\")"
   ]
  },
  {
   "cell_type": "code",
   "execution_count": 13,
   "id": "c9a50774-f58e-446d-9f96-4997d020f2e1",
   "metadata": {},
   "outputs": [
    {
     "ename": "TypeError",
     "evalue": "'tuple' object doesn't support item deletion",
     "output_type": "error",
     "traceback": [
      "\u001b[1;31m---------------------------------------------------------------------------\u001b[0m",
      "\u001b[1;31mTypeError\u001b[0m                                 Traceback (most recent call last)",
      "Cell \u001b[1;32mIn[13], line 1\u001b[0m\n\u001b[1;32m----> 1\u001b[0m \u001b[38;5;28;01mdel\u001b[39;00m a[\u001b[38;5;241m0\u001b[39m]\n",
      "\u001b[1;31mTypeError\u001b[0m: 'tuple' object doesn't support item deletion"
     ]
    }
   ],
   "source": [
    "del a[0]"
   ]
  },
  {
   "cell_type": "code",
   "execution_count": 14,
   "id": "2a26a939-7f71-4de8-b330-e31480a3b079",
   "metadata": {},
   "outputs": [
    {
     "name": "stdout",
     "output_type": "stream",
     "text": [
      "1\n",
      "2\n",
      "3\n"
     ]
    }
   ],
   "source": [
    "for i in a:\n",
    "    print(i)"
   ]
  },
  {
   "cell_type": "code",
   "execution_count": 15,
   "id": "0583fdfb-ae59-4e5f-b689-970143fbf3d1",
   "metadata": {},
   "outputs": [
    {
     "name": "stdout",
     "output_type": "stream",
     "text": [
      "[1, 3, 4, 'hello']\n",
      "(1, 2, 3)\n"
     ]
    }
   ],
   "source": [
    "print(b)\n",
    "print(a)"
   ]
  },
  {
   "cell_type": "code",
   "execution_count": 16,
   "id": "290d4cc5-85ca-4e1a-8de1-0282f11a89aa",
   "metadata": {
    "scrolled": true
   },
   "outputs": [
    {
     "name": "stdout",
     "output_type": "stream",
     "text": [
      "(1, 3, 4, 'hello')\n",
      "[1, 2, 3]\n"
     ]
    }
   ],
   "source": [
    "print(tuple(b))\n",
    "print(list(a))"
   ]
  },
  {
   "cell_type": "markdown",
   "id": "82e847b2-84dc-4d7f-9521-3ff488839837",
   "metadata": {},
   "source": [
    "# String"
   ]
  },
  {
   "cell_type": "code",
   "execution_count": 17,
   "id": "ddb0111c-329e-4979-a8af-cb7208b86cc1",
   "metadata": {},
   "outputs": [
    {
     "name": "stdout",
     "output_type": "stream",
     "text": [
      "Hi! 'hero'\n"
     ]
    }
   ],
   "source": [
    "# it is an odered, immutable collection of the items and it can contain the duplicates\n",
    "\n",
    "a = \"Hi! 'hero'\"\n",
    "\n",
    "print(a)"
   ]
  },
  {
   "cell_type": "code",
   "execution_count": 18,
   "id": "e80f232f-890d-43b8-af89-85fb4a93d8d1",
   "metadata": {},
   "outputs": [
    {
     "name": "stdout",
     "output_type": "stream",
     "text": [
      "\"Lhasang lama\" is it?\n"
     ]
    }
   ],
   "source": [
    "# let's use the escape sequence\n",
    "b= \"\\\"Lhasang lama\\\" is it?\"\n",
    "print(b)"
   ]
  },
  {
   "cell_type": "code",
   "execution_count": 21,
   "id": "82fcfa5f-80f9-4c8d-8556-24a9e4d8d1fd",
   "metadata": {},
   "outputs": [
    {
     "name": "stdout",
     "output_type": "stream",
     "text": [
      "b\n",
      "o\n",
      "b\n"
     ]
    }
   ],
   "source": [
    "b=\"bob\"\n",
    "for i in b:\n",
    "    print(i)"
   ]
  },
  {
   "cell_type": "code",
   "execution_count": 22,
   "id": "1ffc2ed4-222d-4830-9875-249053cdaabb",
   "metadata": {},
   "outputs": [],
   "source": [
    "# methodes\n",
    "\n",
    "title = \"Rat Master\"\n",
    "\n",
    "# converting this into the \"Cat Master\""
   ]
  },
  {
   "cell_type": "code",
   "execution_count": 24,
   "id": "834ae25d-65d4-417c-83ba-bb39e72df312",
   "metadata": {},
   "outputs": [
    {
     "name": "stdout",
     "output_type": "stream",
     "text": [
      "Cat Master\n"
     ]
    }
   ],
   "source": [
    "# using the slicing\n",
    "\n",
    "title1 = \"C\" + title[1:]\n",
    "\n",
    "print(title1)"
   ]
  },
  {
   "cell_type": "code",
   "execution_count": 25,
   "id": "4da02e6e-848e-493e-bff7-1396672228ea",
   "metadata": {},
   "outputs": [
    {
     "name": "stdout",
     "output_type": "stream",
     "text": [
      "Cat Master\n"
     ]
    }
   ],
   "source": [
    "# using the replace method\n",
    "print(title.replace(\"R\",\"C\"))"
   ]
  },
  {
   "cell_type": "code",
   "execution_count": 26,
   "id": "a6cc513d-bb83-468c-b491-ca0905164207",
   "metadata": {},
   "outputs": [
    {
     "data": {
      "text/plain": [
       "4"
      ]
     },
     "execution_count": 26,
     "metadata": {},
     "output_type": "execute_result"
    }
   ],
   "source": [
    "# find method\n",
    "\n",
    "title1.find(\"M\")"
   ]
  },
  {
   "cell_type": "markdown",
   "id": "519b927a-b6c3-41a9-bf8f-b686702343fd",
   "metadata": {},
   "source": [
    "# Dictionaries"
   ]
  },
  {
   "cell_type": "code",
   "execution_count": 40,
   "id": "63e4fd29-40d6-4eea-a896-e31fc04c856f",
   "metadata": {},
   "outputs": [
    {
     "name": "stdout",
     "output_type": "stream",
     "text": [
      "<class 'dict'>\n"
     ]
    }
   ],
   "source": [
    "# a collection of key vale pair items\n",
    "\n",
    "a= {}\n",
    "\n",
    "print(type(a))"
   ]
  },
  {
   "cell_type": "code",
   "execution_count": 41,
   "id": "5658282c-306f-495d-a7d5-a28286bc986d",
   "metadata": {},
   "outputs": [
    {
     "name": "stdout",
     "output_type": "stream",
     "text": [
      "{'name': 'Wangden sherpa', 'age': 24, 'job': 'musical artist'}\n"
     ]
    }
   ],
   "source": [
    "student_info = {\"name\": 'Wangden sherpa','age': 24, \"job\": 'musical artist'}\n",
    "\n",
    "print(student_info)"
   ]
  },
  {
   "cell_type": "code",
   "execution_count": 42,
   "id": "0cbe6427-bf82-4999-a724-f0bfd1541851",
   "metadata": {},
   "outputs": [
    {
     "data": {
      "text/plain": [
       "'Wangden sherpa'"
      ]
     },
     "execution_count": 42,
     "metadata": {},
     "output_type": "execute_result"
    }
   ],
   "source": [
    "student_info[\"name\"]"
   ]
  },
  {
   "cell_type": "code",
   "execution_count": 43,
   "id": "793aae7a-cee2-4146-9c18-d649af1e70b9",
   "metadata": {},
   "outputs": [
    {
     "name": "stdout",
     "output_type": "stream",
     "text": [
      "name -> Wangden sherpa\n",
      "age -> 24\n",
      "job -> musical artist\n"
     ]
    }
   ],
   "source": [
    "# using loop in the dictionaries\n",
    "\n",
    "for k in student_info:\n",
    "    v = student_info[k]\n",
    "    print(f\"{k} -> {v}\") "
   ]
  },
  {
   "cell_type": "code",
   "execution_count": 45,
   "id": "069f34f0-3ecd-4d1a-8df2-8cbc395a35c5",
   "metadata": {},
   "outputs": [
    {
     "name": "stdout",
     "output_type": "stream",
     "text": [
      "{'name': 'Wangden sherpa', 'age': 24, 'job': 'musical artist'}\n",
      "{}\n"
     ]
    }
   ],
   "source": [
    "student_info1 = student_info.copy()\n",
    "print(student_info1)\n",
    "student_info1.clear()\n",
    "print(student_info1)"
   ]
  },
  {
   "cell_type": "markdown",
   "id": "bf05ee63-5b82-4dd4-a835-c1f3176a5dd3",
   "metadata": {},
   "source": [
    "# Sets"
   ]
  },
  {
   "cell_type": "code",
   "execution_count": 49,
   "id": "23f461a2-1ddc-4c88-b0d7-e083ea423195",
   "metadata": {},
   "outputs": [
    {
     "name": "stdout",
     "output_type": "stream",
     "text": [
      "<class 'set'>\n"
     ]
    }
   ],
   "source": [
    "# sets is an unordered collection of the unique items \n",
    "a = set({})\n",
    "print(type(a))"
   ]
  },
  {
   "cell_type": "code",
   "execution_count": 56,
   "id": "7957ed5a-6e2e-4b57-9248-d5c6eb5acc3b",
   "metadata": {},
   "outputs": [
    {
     "name": "stdout",
     "output_type": "stream",
     "text": [
      "{1, 2, 3, 5, 'lama'}\n"
     ]
    }
   ],
   "source": [
    "a = {\"lama\", 5,1,1,2,3,3,2}\n",
    "print(a)"
   ]
  },
  {
   "cell_type": "code",
   "execution_count": 58,
   "id": "be020862-49b9-44ae-a104-cf030a567b0c",
   "metadata": {},
   "outputs": [
    {
     "name": "stdout",
     "output_type": "stream",
     "text": [
      "{1, 2, 3, 'wangden', 5, 'lama'}\n"
     ]
    }
   ],
   "source": [
    "a.add(\"wangden\")\n",
    "print(a)"
   ]
  },
  {
   "cell_type": "code",
   "execution_count": 59,
   "id": "788c2edf-261e-4954-9459-e747eca28aa4",
   "metadata": {},
   "outputs": [
    {
     "name": "stdout",
     "output_type": "stream",
     "text": [
      "Union of {1, 2, 3, 'wangden', 5, 'lama'} and {1, 2, 4, 5, 'lama'} is {1, 2, 3, 4, 5, 'wangden', 'lama'}\n"
     ]
    }
   ],
   "source": [
    "b = {1,2,4,5,\"lama\"}\n",
    "\n",
    "# lets find the union and the interseciton | common on the a and b sets\n",
    "\n",
    "u = a | b\n",
    "print(f\"Union of {a} and {b} is {u}\")"
   ]
  },
  {
   "cell_type": "code",
   "execution_count": 60,
   "id": "b21ad015-5df3-4d13-a761-6376bd6c83c9",
   "metadata": {},
   "outputs": [
    {
     "name": "stdout",
     "output_type": "stream",
     "text": [
      "Common of {1, 2, 3, 'wangden', 5, 'lama'} and {1, 2, 4, 5, 'lama'} is {1, 2, 5, 'lama'}\n"
     ]
    }
   ],
   "source": [
    "c = a & b\n",
    "print(f\"Common of {a} and {b} is {c}\")"
   ]
  },
  {
   "cell_type": "markdown",
   "id": "73037297-dbcc-4772-9e7f-81d1a03af051",
   "metadata": {},
   "source": [
    "# Range funciton: range()"
   ]
  },
  {
   "cell_type": "code",
   "execution_count": 61,
   "id": "efa43ffe-c80b-4201-873f-3bca35c3061a",
   "metadata": {},
   "outputs": [],
   "source": [
    "# range(start, end, step)"
   ]
  },
  {
   "cell_type": "code",
   "execution_count": 62,
   "id": "5f2cf21e-b84c-4088-a336-45dd483e4b07",
   "metadata": {},
   "outputs": [
    {
     "name": "stdout",
     "output_type": "stream",
     "text": [
      "[1, 2, 3, 4, 5, 6, 7, 8, 9]\n"
     ]
    }
   ],
   "source": [
    "a = list(range(1,10))\n",
    "print(a)"
   ]
  },
  {
   "cell_type": "code",
   "execution_count": 64,
   "id": "ae7e2328-433e-4996-963b-256da970e834",
   "metadata": {},
   "outputs": [
    {
     "name": "stdout",
     "output_type": "stream",
     "text": [
      "[10, 9, 8, 7, 6, 5, 4, 3, 2, 1]\n"
     ]
    }
   ],
   "source": [
    "b = list(range(10,0, -1))\n",
    "print(b)"
   ]
  },
  {
   "cell_type": "code",
   "execution_count": null,
   "id": "ee5bc575-bf9a-496b-88e8-fd0ef3dd4717",
   "metadata": {},
   "outputs": [],
   "source": []
  }
 ],
 "metadata": {
  "kernelspec": {
   "display_name": "Python 3 (ipykernel)",
   "language": "python",
   "name": "python3"
  },
  "language_info": {
   "codemirror_mode": {
    "name": "ipython",
    "version": 3
   },
   "file_extension": ".py",
   "mimetype": "text/x-python",
   "name": "python",
   "nbconvert_exporter": "python",
   "pygments_lexer": "ipython3",
   "version": "3.11.7"
  },
  "widgets": {
   "application/vnd.jupyter.widget-state+json": {
    "state": {},
    "version_major": 2,
    "version_minor": 0
   }
  }
 },
 "nbformat": 4,
 "nbformat_minor": 5
}
