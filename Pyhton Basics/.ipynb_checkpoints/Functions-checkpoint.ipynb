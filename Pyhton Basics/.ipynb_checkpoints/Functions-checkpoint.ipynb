{
 "cells": [
  {
   "cell_type": "markdown",
   "id": "504f20bb-aa71-475c-b0f9-eb07263c532b",
   "metadata": {},
   "source": [
    "# Functions"
   ]
  },
  {
   "cell_type": "markdown",
   "id": "f3e45ca1-2a47-410b-9802-27876ac27da8",
   "metadata": {},
   "source": [
    "### Functions are the re-usable blocks of code that helps us in efficiency by reducing the redundancy"
   ]
  },
  {
   "cell_type": "code",
   "execution_count": 7,
   "id": "bc267822-29fa-4481-a695-eb60c297d63b",
   "metadata": {},
   "outputs": [
    {
     "name": "stdout",
     "output_type": "stream",
     "text": [
      "3\n"
     ]
    }
   ],
   "source": [
    "# in python we user def for defining the funciton\n",
    "def add(a,b):\n",
    "    return a+b\n",
    "\n",
    "print(add(1,2))"
   ]
  },
  {
   "cell_type": "markdown",
   "id": "dc7285a4-b3b8-458d-b630-f25c6f230fdb",
   "metadata": {},
   "source": [
    "## The function has mainly 2 parts\n",
    "### The arguments as an input\n",
    "### The return as an output\n"
   ]
  },
  {
   "cell_type": "code",
   "execution_count": 8,
   "id": "1ee48a30-537a-43d4-8998-84e1f220670e",
   "metadata": {},
   "outputs": [
    {
     "name": "stdin",
     "output_type": "stream",
     "text": [
      "Enter a number:  34\n"
     ]
    },
    {
     "name": "stdout",
     "output_type": "stream",
     "text": [
      "even\n"
     ]
    }
   ],
   "source": [
    "# function define\n",
    "\n",
    "def even_odd(n):\n",
    "    if n%2 == 0:\n",
    "        return \"even\"\n",
    "    else:\n",
    "        return \"odd\"\n",
    "\n",
    "\n",
    "\n",
    "n = int(input(\"Enter a number: \"))  # this will be taken as argument i.e. input to the even_odd function after calling\n",
    "\n",
    "# function call\n",
    "print(even_odd(n))"
   ]
  },
  {
   "cell_type": "markdown",
   "id": "defd6623-75ef-4357-823d-f362ec06962d",
   "metadata": {},
   "source": []
  }
 ],
 "metadata": {
  "kernelspec": {
   "display_name": "Python 3 (ipykernel)",
   "language": "python",
   "name": "python3"
  },
  "language_info": {
   "codemirror_mode": {
    "name": "ipython",
    "version": 3
   },
   "file_extension": ".py",
   "mimetype": "text/x-python",
   "name": "python",
   "nbconvert_exporter": "python",
   "pygments_lexer": "ipython3",
   "version": "3.11.7"
  },
  "widgets": {
   "application/vnd.jupyter.widget-state+json": {
    "state": {},
    "version_major": 2,
    "version_minor": 0
   }
  }
 },
 "nbformat": 4,
 "nbformat_minor": 5
}
