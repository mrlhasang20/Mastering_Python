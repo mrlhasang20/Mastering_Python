{
 "cells": [
  {
   "cell_type": "markdown",
   "id": "33cd4081-c199-408c-95aa-eed1d03c5881",
   "metadata": {},
   "source": [
    "# Introduction to Python"
   ]
  },
  {
   "cell_type": "code",
   "execution_count": 7,
   "id": "b96ba7fd-23db-49aa-8f1d-72f9c7218b66",
   "metadata": {},
   "outputs": [
    {
     "name": "stdout",
     "output_type": "stream",
     "text": [
      "My name is  lhasang\n"
     ]
    }
   ],
   "source": [
    "# variables\n",
    "\n",
    "name = \"lhasang\"\n",
    "print(\"My name is \", name)"
   ]
  },
  {
   "cell_type": "code",
   "execution_count": 9,
   "id": "87a722cc-f88a-4ff3-8fc4-017b45954a28",
   "metadata": {},
   "outputs": [
    {
     "name": "stdout",
     "output_type": "stream",
     "text": [
      "<class 'int'>\n",
      "<class 'str'>\n"
     ]
    }
   ],
   "source": [
    "# Numbers and strings\n",
    "age = 20\n",
    "Age = \"20\"\n",
    "\n",
    "print(type(age))\n",
    "print(type(Age))"
   ]
  },
  {
   "cell_type": "code",
   "execution_count": 16,
   "id": "c3cbf35c-acb4-4738-b744-45fe37a78d92",
   "metadata": {},
   "outputs": [
    {
     "data": {
      "text/plain": [
       "' Multiple line comments \\noh yeah\\n'"
      ]
     },
     "execution_count": 16,
     "metadata": {},
     "output_type": "execute_result"
    }
   ],
   "source": [
    "# lets know about the comments: actually we are using right now\n",
    "\n",
    "# single line comments\n",
    "\n",
    "\"\"\" Multiple line comments \n",
    "oh yeah\n",
    "\"\"\""
   ]
  },
  {
   "cell_type": "code",
   "execution_count": 17,
   "id": "a1b955d9-d027-4ff2-8f9c-89a979d07841",
   "metadata": {},
   "outputs": [
    {
     "name": "stdout",
     "output_type": "stream",
     "text": [
      "Hello  lhasang\n",
      "My name is lhasang\n"
     ]
    }
   ],
   "source": [
    "# Outputs\n",
    "\n",
    "print(\"Hello \", name)\n",
    "\n",
    "# using the f-string to print\n",
    "print(f\"My name is {name}\")"
   ]
  },
  {
   "cell_type": "code",
   "execution_count": 18,
   "id": "acec2e61-91c4-417a-bfae-fa57cc2e87cd",
   "metadata": {},
   "outputs": [],
   "source": [
    "# Arithmetic Operators\n",
    "\n",
    "a = 10\n",
    "b = 2\n",
    "\n",
    "add = a+b\n",
    "sub = a-b\n",
    "div = a/b #it outputs the floats\n",
    "quotent = a//b # o/p is in interger\n",
    "mul = a*b\n",
    "exp = a**b"
   ]
  },
  {
   "cell_type": "code",
   "execution_count": 20,
   "id": "11146ee4-23ad-47ec-a404-de78dd91d965",
   "metadata": {},
   "outputs": [
    {
     "name": "stdout",
     "output_type": "stream",
     "text": [
      "add: 12, sub: 8, division: 5.0, quotent: 5, multiplication: 20 and power = 100\n"
     ]
    }
   ],
   "source": [
    "print(f\"add: {add}, sub: {sub}, division: {div}, quotent: {quotent}, multiplication: {mul} and power = {exp}\")"
   ]
  },
  {
   "cell_type": "code",
   "execution_count": null,
   "id": "71fd0b49-b3c4-49ab-ac8d-14920beb7fd4",
   "metadata": {},
   "outputs": [],
   "source": []
  }
 ],
 "metadata": {
  "kernelspec": {
   "display_name": "Python 3 (ipykernel)",
   "language": "python",
   "name": "python3"
  },
  "language_info": {
   "codemirror_mode": {
    "name": "ipython",
    "version": 3
   },
   "file_extension": ".py",
   "mimetype": "text/x-python",
   "name": "python",
   "nbconvert_exporter": "python",
   "pygments_lexer": "ipython3",
   "version": "3.11.7"
  },
  "widgets": {
   "application/vnd.jupyter.widget-state+json": {
    "state": {},
    "version_major": 2,
    "version_minor": 0
   }
  }
 },
 "nbformat": 4,
 "nbformat_minor": 5
}
